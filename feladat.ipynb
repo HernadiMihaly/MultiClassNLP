{
 "cells": [
  {
   "cell_type": "markdown",
   "metadata": {},
   "source": [
    "# Logisztikus regresszió alkalmazása szöveg multiosztályozásra"
   ]
  },
  {
   "cell_type": "markdown",
   "metadata": {},
   "source": [
    "## Feladat rövid leírása\n",
    "\n",
    "A feladat során a books.json multiklasszifkációs adatbázis felhasználásával mutatom be a logisztikus regresszió alkalmazását amely segitségével a megfelelő adatisztási feladatok elvégzésvel 24.75%-os pontosságot sikerült elérnem."
   ]
  },
  {
   "cell_type": "markdown",
   "metadata": {},
   "source": [
    "## Készítette:\n",
    "### Név: Hernádi Mihály\n",
    "### Neptun kód: IP2CC3"
   ]
  },
  {
   "cell_type": "markdown",
   "metadata": {},
   "source": [
    "## Adatok előkészítése"
   ]
  },
  {
   "cell_type": "markdown",
   "metadata": {},
   "source": [
    "### Nyers adat beolvasása"
   ]
  },
  {
   "cell_type": "code",
   "execution_count": 1,
   "metadata": {},
   "outputs": [
    {
     "data": {
      "text/html": [
       "<div>\n",
       "<style scoped>\n",
       "    .dataframe tbody tr th:only-of-type {\n",
       "        vertical-align: middle;\n",
       "    }\n",
       "\n",
       "    .dataframe tbody tr th {\n",
       "        vertical-align: top;\n",
       "    }\n",
       "\n",
       "    .dataframe thead th {\n",
       "        text-align: right;\n",
       "    }\n",
       "</style>\n",
       "<table border=\"1\" class=\"dataframe\">\n",
       "  <thead>\n",
       "    <tr style=\"text-align: right;\">\n",
       "      <th></th>\n",
       "      <th>index</th>\n",
       "      <th>title</th>\n",
       "      <th>genre</th>\n",
       "      <th>summary</th>\n",
       "    </tr>\n",
       "  </thead>\n",
       "  <tbody>\n",
       "    <tr>\n",
       "      <th>0</th>\n",
       "      <td>0</td>\n",
       "      <td>Drowned Wednesday</td>\n",
       "      <td>fantasy</td>\n",
       "      <td>Drowned Wednesday is the first Trustee among t...</td>\n",
       "    </tr>\n",
       "    <tr>\n",
       "      <th>1</th>\n",
       "      <td>1</td>\n",
       "      <td>The Lost Hero</td>\n",
       "      <td>fantasy</td>\n",
       "      <td>As the book opens, Jason awakens on a school b...</td>\n",
       "    </tr>\n",
       "    <tr>\n",
       "      <th>2</th>\n",
       "      <td>2</td>\n",
       "      <td>The Eyes of the Overworld</td>\n",
       "      <td>fantasy</td>\n",
       "      <td>Cugel is easily persuaded by the merchant Fian...</td>\n",
       "    </tr>\n",
       "    <tr>\n",
       "      <th>3</th>\n",
       "      <td>3</td>\n",
       "      <td>Magic's Promise</td>\n",
       "      <td>fantasy</td>\n",
       "      <td>The book opens with Herald-Mage Vanyel returni...</td>\n",
       "    </tr>\n",
       "    <tr>\n",
       "      <th>4</th>\n",
       "      <td>4</td>\n",
       "      <td>Taran Wanderer</td>\n",
       "      <td>fantasy</td>\n",
       "      <td>Taran and Gurgi have returned to Caer Dallben ...</td>\n",
       "    </tr>\n",
       "    <tr>\n",
       "      <th>5</th>\n",
       "      <td>5</td>\n",
       "      <td>Thendara House</td>\n",
       "      <td>fantasy</td>\n",
       "      <td>The novel concerns the dwelling of the Darkova...</td>\n",
       "    </tr>\n",
       "    <tr>\n",
       "      <th>6</th>\n",
       "      <td>6</td>\n",
       "      <td>The Thief</td>\n",
       "      <td>fantasy</td>\n",
       "      <td>Gen is released from prison by the magus, the ...</td>\n",
       "    </tr>\n",
       "    <tr>\n",
       "      <th>7</th>\n",
       "      <td>7</td>\n",
       "      <td>The Sweet Far Thing</td>\n",
       "      <td>fantasy</td>\n",
       "      <td>The prologue begins with two men who are searc...</td>\n",
       "    </tr>\n",
       "    <tr>\n",
       "      <th>8</th>\n",
       "      <td>8</td>\n",
       "      <td>Mistborn: The Final Empire</td>\n",
       "      <td>fantasy</td>\n",
       "      <td>In Luthadel, the capital city of the Final Emp...</td>\n",
       "    </tr>\n",
       "    <tr>\n",
       "      <th>9</th>\n",
       "      <td>9</td>\n",
       "      <td>The Sorcerer's Ship</td>\n",
       "      <td>fantasy</td>\n",
       "      <td>A man named Gene finds himself cast into a new...</td>\n",
       "    </tr>\n",
       "  </tbody>\n",
       "</table>\n",
       "</div>"
      ],
      "text/plain": [
       "   index                       title    genre  \\\n",
       "0      0           Drowned Wednesday  fantasy   \n",
       "1      1               The Lost Hero  fantasy   \n",
       "2      2   The Eyes of the Overworld  fantasy   \n",
       "3      3             Magic's Promise  fantasy   \n",
       "4      4              Taran Wanderer  fantasy   \n",
       "5      5              Thendara House  fantasy   \n",
       "6      6                   The Thief  fantasy   \n",
       "7      7         The Sweet Far Thing  fantasy   \n",
       "8      8  Mistborn: The Final Empire  fantasy   \n",
       "9      9         The Sorcerer's Ship  fantasy   \n",
       "\n",
       "                                             summary  \n",
       "0  Drowned Wednesday is the first Trustee among t...  \n",
       "1  As the book opens, Jason awakens on a school b...  \n",
       "2  Cugel is easily persuaded by the merchant Fian...  \n",
       "3  The book opens with Herald-Mage Vanyel returni...  \n",
       "4  Taran and Gurgi have returned to Caer Dallben ...  \n",
       "5  The novel concerns the dwelling of the Darkova...  \n",
       "6  Gen is released from prison by the magus, the ...  \n",
       "7  The prologue begins with two men who are searc...  \n",
       "8  In Luthadel, the capital city of the Final Emp...  \n",
       "9  A man named Gene finds himself cast into a new...  "
      ]
     },
     "execution_count": 1,
     "metadata": {},
     "output_type": "execute_result"
    }
   ],
   "source": [
    "import pandas as pd\n",
    "\n",
    "df_books = pd.read_json(\"data/books.json\", orient='records')\n",
    "df_books.head(10)"
   ]
  },
  {
   "cell_type": "markdown",
   "metadata": {},
   "source": [
    "### A szükségtelen jellemzők eltávolítása és egyforma számú adatokra redukálás műfajonként"
   ]
  },
  {
   "cell_type": "code",
   "execution_count": 2,
   "metadata": {},
   "outputs": [
    {
     "data": {
      "text/html": [
       "<div>\n",
       "<style scoped>\n",
       "    .dataframe tbody tr th:only-of-type {\n",
       "        vertical-align: middle;\n",
       "    }\n",
       "\n",
       "    .dataframe tbody tr th {\n",
       "        vertical-align: top;\n",
       "    }\n",
       "\n",
       "    .dataframe thead th {\n",
       "        text-align: right;\n",
       "    }\n",
       "</style>\n",
       "<table border=\"1\" class=\"dataframe\">\n",
       "  <thead>\n",
       "    <tr style=\"text-align: right;\">\n",
       "      <th></th>\n",
       "      <th>description</th>\n",
       "      <th>genre</th>\n",
       "      <th>genre_name</th>\n",
       "    </tr>\n",
       "  </thead>\n",
       "  <tbody>\n",
       "    <tr>\n",
       "      <th>2500</th>\n",
       "      <td>The book begins where Roses are Red ended, wit...</td>\n",
       "      <td>NaN</td>\n",
       "      <td>thriller</td>\n",
       "    </tr>\n",
       "    <tr>\n",
       "      <th>2501</th>\n",
       "      <td>After proposing to his childhood sweetheart Be...</td>\n",
       "      <td>NaN</td>\n",
       "      <td>thriller</td>\n",
       "    </tr>\n",
       "    <tr>\n",
       "      <th>2502</th>\n",
       "      <td>When a beloved former First Lady dies, an elab...</td>\n",
       "      <td>NaN</td>\n",
       "      <td>thriller</td>\n",
       "    </tr>\n",
       "    <tr>\n",
       "      <th>2503</th>\n",
       "      <td>Mississippi attorneys Wes and Mary Grace Payto...</td>\n",
       "      <td>NaN</td>\n",
       "      <td>thriller</td>\n",
       "    </tr>\n",
       "    <tr>\n",
       "      <th>2504</th>\n",
       "      <td>The story starts with Jack's fall from the Ver...</td>\n",
       "      <td>NaN</td>\n",
       "      <td>thriller</td>\n",
       "    </tr>\n",
       "    <tr>\n",
       "      <th>...</th>\n",
       "      <td>...</td>\n",
       "      <td>...</td>\n",
       "      <td>...</td>\n",
       "    </tr>\n",
       "    <tr>\n",
       "      <th>2495</th>\n",
       "      <td>While at the theater for a Star Trek marathon ...</td>\n",
       "      <td>NaN</td>\n",
       "      <td>horror</td>\n",
       "    </tr>\n",
       "    <tr>\n",
       "      <th>2496</th>\n",
       "      <td>The novel centers on a group of young women, b...</td>\n",
       "      <td>NaN</td>\n",
       "      <td>horror</td>\n",
       "    </tr>\n",
       "    <tr>\n",
       "      <th>2497</th>\n",
       "      <td>Teenager Janice Crogan finds a diary belonging...</td>\n",
       "      <td>NaN</td>\n",
       "      <td>horror</td>\n",
       "    </tr>\n",
       "    <tr>\n",
       "      <th>2498</th>\n",
       "      <td>Harvest Home is narrated in the first person b...</td>\n",
       "      <td>NaN</td>\n",
       "      <td>horror</td>\n",
       "    </tr>\n",
       "    <tr>\n",
       "      <th>2499</th>\n",
       "      <td>On Isabella \"Bella\" Swan's 18th birthday, Edwa...</td>\n",
       "      <td>NaN</td>\n",
       "      <td>horror</td>\n",
       "    </tr>\n",
       "  </tbody>\n",
       "</table>\n",
       "<p>2000 rows × 3 columns</p>\n",
       "</div>"
      ],
      "text/plain": [
       "                                            description genre genre_name\n",
       "2500  The book begins where Roses are Red ended, wit...   NaN   thriller\n",
       "2501  After proposing to his childhood sweetheart Be...   NaN   thriller\n",
       "2502  When a beloved former First Lady dies, an elab...   NaN   thriller\n",
       "2503  Mississippi attorneys Wes and Mary Grace Payto...   NaN   thriller\n",
       "2504  The story starts with Jack's fall from the Ver...   NaN   thriller\n",
       "...                                                 ...   ...        ...\n",
       "2495  While at the theater for a Star Trek marathon ...   NaN     horror\n",
       "2496  The novel centers on a group of young women, b...   NaN     horror\n",
       "2497  Teenager Janice Crogan finds a diary belonging...   NaN     horror\n",
       "2498  Harvest Home is narrated in the first person b...   NaN     horror\n",
       "2499  On Isabella \"Bella\" Swan's 18th birthday, Edwa...   NaN     horror\n",
       "\n",
       "[2000 rows x 3 columns]"
      ]
     },
     "execution_count": 2,
     "metadata": {},
     "output_type": "execute_result"
    }
   ],
   "source": [
    "df_filtered_books = pd.DataFrame(columns=[\"description\",\"genre\",\"genre_name\"])\n",
    "\n",
    "df_filter_helper = pd.DataFrame(columns=[\"description\",\"genre\",\"genre_name\"])\n",
    "df_filter_helper[\"description\"] = [item for item in df_books[\"summary\"].values]\n",
    "df_filter_helper[\"genre_name\"] = [item for item in df_books[\"genre\"].values]\n",
    "\n",
    "#akár ez is lehetne, de mivel deprecated (és szebb is), így inkább a concatos verziót hagytam bent\n",
    "#df_filtered_books = df_filtered_books.append(df_filter_helper.query('genre_name == \"thriller\"')[0:500], ignore_index=True)\n",
    "#df_filtered_books = df_filtered_books.append(df_filter_helper.query('genre_name == \"fantasy\"')[0:500], ignore_index=True)\n",
    "#df_filtered_books = df_filtered_books.append(df_filter_helper.query('genre_name == \"history\"')[0:500], ignore_index=True)\n",
    "#df_filtered_books = df_filtered_books.append(df_filter_helper.query('genre_name == \"horror\"')[0:500], ignore_index=True)\n",
    "\n",
    "df_filtered_books = pd.concat([df_filter_helper.query('genre_name == \"thriller\"')[0:500],\n",
    "                              df_filter_helper.query('genre_name == \"fantasy\"')[0:500],\n",
    "                              df_filter_helper.query('genre_name == \"history\"')[0:500],\n",
    "                              df_filter_helper.query('genre_name == \"horror\"')[0:500]])\n",
    "df_filtered_books"
   ]
  },
  {
   "cell_type": "markdown",
   "metadata": {},
   "source": [
    "### Hisztogram az adatokban lévő osztályok eloszlásáról\n",
    "\n",
    "A hisztogramon jól látható hogy az egyes csoportok egyenlő számban tartalmaznak elemeket az egyes osztályokhoz. Ezért kijelenthető, hogy az adatok az osztályok szempontjából egyeneletes eloszlásúak, így az adathalmaz jól kiegyensúlyozottnak tekinthető!"
   ]
  },
  {
   "cell_type": "code",
   "execution_count": 3,
   "metadata": {},
   "outputs": [
    {
     "data": {
      "text/plain": [
       "<AxesSubplot:>"
      ]
     },
     "execution_count": 3,
     "metadata": {},
     "output_type": "execute_result"
    },
    {
     "data": {
      "image/png": "[encoded data removed]",
      "text/plain": [
       "<Figure size 640x480 with 1 Axes>"
      ]
     },
     "metadata": {},
     "output_type": "display_data"
    }
   ],
   "source": [
    "df_filtered_books[\"genre_name\"].hist()"
   ]
  },
  {
   "cell_type": "markdown",
   "metadata": {},
   "source": [
    "### Decimális szám kódolású cimkék előállítása az egyes osztályokhoz"
   ]
  },
  {
   "cell_type": "code",
   "execution_count": 28,
   "metadata": {},
   "outputs": [
    {
     "data": {
      "text/html": [
       "<div>\n",
       "<style scoped>\n",
       "    .dataframe tbody tr th:only-of-type {\n",
       "        vertical-align: middle;\n",
       "    }\n",
       "\n",
       "    .dataframe tbody tr th {\n",
       "        vertical-align: top;\n",
       "    }\n",
       "\n",
       "    .dataframe thead th {\n",
       "        text-align: right;\n",
       "    }\n",
       "</style>\n",
       "<table border=\"1\" class=\"dataframe\">\n",
       "  <thead>\n",
       "    <tr style=\"text-align: right;\">\n",
       "      <th></th>\n",
       "      <th>description</th>\n",
       "      <th>genre</th>\n",
       "      <th>genre_name</th>\n",
       "    </tr>\n",
       "  </thead>\n",
       "  <tbody>\n",
       "    <tr>\n",
       "      <th>2500</th>\n",
       "      <td>The book begins where Roses are Red ended, wit...</td>\n",
       "      <td>0</td>\n",
       "      <td>thriller</td>\n",
       "    </tr>\n",
       "    <tr>\n",
       "      <th>2501</th>\n",
       "      <td>After proposing to his childhood sweetheart Be...</td>\n",
       "      <td>0</td>\n",
       "      <td>thriller</td>\n",
       "    </tr>\n",
       "    <tr>\n",
       "      <th>2502</th>\n",
       "      <td>When a beloved former First Lady dies, an elab...</td>\n",
       "      <td>0</td>\n",
       "      <td>thriller</td>\n",
       "    </tr>\n",
       "    <tr>\n",
       "      <th>2503</th>\n",
       "      <td>Mississippi attorneys Wes and Mary Grace Payto...</td>\n",
       "      <td>0</td>\n",
       "      <td>thriller</td>\n",
       "    </tr>\n",
       "    <tr>\n",
       "      <th>2504</th>\n",
       "      <td>The story starts with Jack's fall from the Ver...</td>\n",
       "      <td>0</td>\n",
       "      <td>thriller</td>\n",
       "    </tr>\n",
       "    <tr>\n",
       "      <th>...</th>\n",
       "      <td>...</td>\n",
       "      <td>...</td>\n",
       "      <td>...</td>\n",
       "    </tr>\n",
       "    <tr>\n",
       "      <th>2495</th>\n",
       "      <td>While at the theater for a Star Trek marathon ...</td>\n",
       "      <td>3</td>\n",
       "      <td>horror</td>\n",
       "    </tr>\n",
       "    <tr>\n",
       "      <th>2496</th>\n",
       "      <td>The novel centers on a group of young women, b...</td>\n",
       "      <td>3</td>\n",
       "      <td>horror</td>\n",
       "    </tr>\n",
       "    <tr>\n",
       "      <th>2497</th>\n",
       "      <td>Teenager Janice Crogan finds a diary belonging...</td>\n",
       "      <td>3</td>\n",
       "      <td>horror</td>\n",
       "    </tr>\n",
       "    <tr>\n",
       "      <th>2498</th>\n",
       "      <td>Harvest Home is narrated in the first person b...</td>\n",
       "      <td>3</td>\n",
       "      <td>horror</td>\n",
       "    </tr>\n",
       "    <tr>\n",
       "      <th>2499</th>\n",
       "      <td>On Isabella \"Bella\" Swan's 18th birthday, Edwa...</td>\n",
       "      <td>3</td>\n",
       "      <td>horror</td>\n",
       "    </tr>\n",
       "  </tbody>\n",
       "</table>\n",
       "<p>2000 rows × 3 columns</p>\n",
       "</div>"
      ],
      "text/plain": [
       "                                            description  genre genre_name\n",
       "2500  The book begins where Roses are Red ended, wit...      0   thriller\n",
       "2501  After proposing to his childhood sweetheart Be...      0   thriller\n",
       "2502  When a beloved former First Lady dies, an elab...      0   thriller\n",
       "2503  Mississippi attorneys Wes and Mary Grace Payto...      0   thriller\n",
       "2504  The story starts with Jack's fall from the Ver...      0   thriller\n",
       "...                                                 ...    ...        ...\n",
       "2495  While at the theater for a Star Trek marathon ...      3     horror\n",
       "2496  The novel centers on a group of young women, b...      3     horror\n",
       "2497  Teenager Janice Crogan finds a diary belonging...      3     horror\n",
       "2498  Harvest Home is narrated in the first person b...      3     horror\n",
       "2499  On Isabella \"Bella\" Swan's 18th birthday, Edwa...      3     horror\n",
       "\n",
       "[2000 rows x 3 columns]"
      ]
     },
     "execution_count": 28,
     "metadata": {},
     "output_type": "execute_result"
    },
    {
     "data": {
      "image/png": "[encoded data removed]",
      "text/plain": [
       "<Figure size 640x480 with 1 Axes>"
      ]
     },
     "metadata": {},
     "output_type": "display_data"
    }
   ],
   "source": [
    "genre = []\n",
    "for item in df_filtered_books[\"genre_name\"].values:\n",
    "    if item == \"thriller\":\n",
    "        genre.append(0)\n",
    "    elif item == \"fantasy\":\n",
    "        genre.append(1)\n",
    "    elif item == \"history\":\n",
    "        genre.append(2)\n",
    "    elif item == \"horror\":\n",
    "        genre.append(3)\n",
    "    else:\n",
    "        genre.append(0)\n",
    "\n",
    "df_filtered_books[\"genre\"] = genre\n",
    "\n",
    "df_filtered_books[\"genre\"].hist()\n",
    "df_filtered_books"
   ]
  },
  {
   "cell_type": "markdown",
   "metadata": {},
   "source": [
    "### Az adatok train, validációs és teszt adathalmazra való bontása"
   ]
  },
  {
   "cell_type": "code",
   "execution_count": 5,
   "metadata": {},
   "outputs": [
    {
     "data": {
      "text/plain": [
       "(2000, 300, 100)"
      ]
     },
     "execution_count": 5,
     "metadata": {},
     "output_type": "execute_result"
    }
   ],
   "source": [
    "len_df_filtered_books = len(df_filtered_books)\n",
    "\n",
    "len_books_train = int(round(len_df_filtered_books * 0.6))\n",
    "len_books_val_test = (len_df_filtered_books - len_books_train) // 8\n",
    "len_books_train = len_books_train // 4\n",
    "\n",
    "len_df_filtered_books, len_books_train, len_books_val_test"
   ]
  },
  {
   "cell_type": "code",
   "execution_count": 6,
   "metadata": {},
   "outputs": [],
   "source": [
    "df_books_filtered_0 = df_filtered_books.loc[df_filtered_books['genre'] == 0].copy()\n",
    "df_books_filtered_1 = df_filtered_books.loc[df_filtered_books['genre'] == 1].copy()\n",
    "df_books_filtered_2 = df_filtered_books.loc[df_filtered_books['genre'] == 2].copy()\n",
    "df_books_filtered_3 = df_filtered_books.loc[df_filtered_books['genre'] == 3].copy()\n",
    "\n",
    "df_books_filtered_0_train = df_books_filtered_0[:len_books_train].copy()\n",
    "df_books_filtered_1_train = df_books_filtered_1[:len_books_train].copy()\n",
    "df_books_filtered_2_train = df_books_filtered_2[:len_books_train].copy()\n",
    "df_books_filtered_3_train = df_books_filtered_3[:len_books_train].copy()\n",
    "\n",
    "df_books_filtered_0_val = df_books_filtered_0[len_books_train:len_books_train+len_books_val_test].copy()\n",
    "df_books_filtered_1_val = df_books_filtered_1[len_books_train:len_books_train+len_books_val_test].copy()\n",
    "df_books_filtered_2_val = df_books_filtered_2[len_books_train:len_books_train+len_books_val_test].copy()\n",
    "df_books_filtered_3_val = df_books_filtered_3[len_books_train:len_books_train+len_books_val_test].copy()\n",
    "\n",
    "df_books_filtered_0_test = df_books_filtered_0[len_books_train+len_books_val_test:].copy()\n",
    "df_books_filtered_1_test = df_books_filtered_1[len_books_train+len_books_val_test:].copy()\n",
    "df_books_filtered_2_test = df_books_filtered_2[len_books_train+len_books_val_test:].copy()\n",
    "df_books_filtered_3_test = df_books_filtered_3[len_books_train+len_books_val_test:].copy()"
   ]
  },
  {
   "cell_type": "markdown",
   "metadata": {},
   "source": [
    "### Az előállított tanuló, validációs és teszt adathalmazok ellenőrzése\n",
    "\n",
    "Az ellenőrzés során jól látható, hogy a nyers adathalmaz felbontása tanuló, validációs és teszt adathalmazon olyan módon történt hogy a létrejövő adathalmazokban az adatok osztályok szerinti egyeneletes eloszlása megmaradt."
   ]
  },
  {
   "cell_type": "code",
   "execution_count": 7,
   "metadata": {},
   "outputs": [
    {
     "name": "stdout",
     "output_type": "stream",
     "text": [
      "<class 'pandas.core.frame.DataFrame'>\n",
      "Int64Index: 1200 entries, 5 to 2750\n",
      "Data columns (total 3 columns):\n",
      " #   Column       Non-Null Count  Dtype \n",
      "---  ------       --------------  ----- \n",
      " 0   description  1200 non-null   object\n",
      " 1   genre        1200 non-null   int64 \n",
      " 2   genre_name   1200 non-null   object\n",
      "dtypes: int64(1), object(2)\n",
      "memory usage: 37.5+ KB\n"
     ]
    },
    {
     "data": {
      "text/plain": [
       "array([[<AxesSubplot:title={'center':'genre'}>]], dtype=object)"
      ]
     },
     "execution_count": 7,
     "metadata": {},
     "output_type": "execute_result"
    },
    {
     "data": {
      "image/png": "[encoded data removed]",
      "text/plain": [
       "<Figure size 640x480 with 1 Axes>"
      ]
     },
     "metadata": {},
     "output_type": "display_data"
    }
   ],
   "source": [
    "df_books_filtered_train = pd.concat([df_books_filtered_0_train, \n",
    "                                    df_books_filtered_1_train, \n",
    "                                    df_books_filtered_2_train,\n",
    "                                    df_books_filtered_3_train])\n",
    "df_books_filtered_train = df_books_filtered_train.sample(frac=1)\n",
    "df_books_filtered_train.info()\n",
    "df_books_filtered_train.hist()"
   ]
  },
  {
   "cell_type": "code",
   "execution_count": 8,
   "metadata": {},
   "outputs": [
    {
     "name": "stdout",
     "output_type": "stream",
     "text": [
      "<class 'pandas.core.frame.DataFrame'>\n",
      "Int64Index: 400 entries, 2854 to 2396\n",
      "Data columns (total 3 columns):\n",
      " #   Column       Non-Null Count  Dtype \n",
      "---  ------       --------------  ----- \n",
      " 0   description  400 non-null    object\n",
      " 1   genre        400 non-null    int64 \n",
      " 2   genre_name   400 non-null    object\n",
      "dtypes: int64(1), object(2)\n",
      "memory usage: 12.5+ KB\n"
     ]
    },
    {
     "data": {
      "text/plain": [
       "array([[<AxesSubplot:title={'center':'genre'}>]], dtype=object)"
      ]
     },
     "execution_count": 8,
     "metadata": {},
     "output_type": "execute_result"
    },
    {
     "data": {
      "image/png": "[encoded data removed]",
      "text/plain": [
       "<Figure size 640x480 with 1 Axes>"
      ]
     },
     "metadata": {},
     "output_type": "display_data"
    }
   ],
   "source": [
    "df_books_filtered_val = pd.concat([df_books_filtered_0_val, \n",
    "                                    df_books_filtered_1_val, \n",
    "                                    df_books_filtered_2_val,\n",
    "                                    df_books_filtered_3_val])\n",
    "df_books_filtered_val = df_books_filtered_val.sample(frac=1)\n",
    "df_books_filtered_val.info()\n",
    "df_books_filtered_val.hist()"
   ]
  },
  {
   "cell_type": "code",
   "execution_count": 9,
   "metadata": {},
   "outputs": [
    {
     "name": "stdout",
     "output_type": "stream",
     "text": [
      "<class 'pandas.core.frame.DataFrame'>\n",
      "Int64Index: 400 entries, 1923 to 2493\n",
      "Data columns (total 3 columns):\n",
      " #   Column       Non-Null Count  Dtype \n",
      "---  ------       --------------  ----- \n",
      " 0   description  400 non-null    object\n",
      " 1   genre        400 non-null    int64 \n",
      " 2   genre_name   400 non-null    object\n",
      "dtypes: int64(1), object(2)\n",
      "memory usage: 12.5+ KB\n"
     ]
    },
    {
     "data": {
      "text/plain": [
       "array([[<AxesSubplot:title={'center':'genre'}>]], dtype=object)"
      ]
     },
     "execution_count": 9,
     "metadata": {},
     "output_type": "execute_result"
    },
    {
     "data": {
      "image/png": "[encoded data removed]",
      "text/plain": [
       "<Figure size 640x480 with 1 Axes>"
      ]
     },
     "metadata": {},
     "output_type": "display_data"
    }
   ],
   "source": [
    "df_books_filtered_test = pd.concat([df_books_filtered_0_test, \n",
    "                                    df_books_filtered_1_test, \n",
    "                                    df_books_filtered_2_test,\n",
    "                                    df_books_filtered_3_test])\n",
    "df_books_filtered_test = df_books_filtered_test.sample(frac=1)\n",
    "df_books_filtered_test.info()\n",
    "df_books_filtered_test.hist()"
   ]
  },
  {
   "cell_type": "markdown",
   "metadata": {},
   "source": [
    "### Elkészített és ellenőrzött adathalmazok kiírása"
   ]
  },
  {
   "cell_type": "code",
   "execution_count": 10,
   "metadata": {},
   "outputs": [],
   "source": [
    "books_train = \"data/books_train.json\"\n",
    "df_books_filtered_train.to_json(books_train, orient=\"records\")\n",
    "df_readed_books_filtered_train = pd.read_json(books_train, orient='records')\n",
    "\n",
    "books_val = \"data/books_val.json\"\n",
    "df_books_filtered_val.to_json(books_val, orient=\"records\")\n",
    "df_readed_books_filtered_val = pd.read_json(books_val, orient='records')\n",
    "\n",
    "books_test = \"data/books_test.json\"\n",
    "df_books_filtered_test.to_json(books_test, orient=\"records\")"
   ]
  },
  {
   "cell_type": "markdown",
   "metadata": {},
   "source": [
    "## Tanuló, validációs és teszt adatok beolvasása"
   ]
  },
  {
   "cell_type": "code",
   "execution_count": 11,
   "metadata": {},
   "outputs": [],
   "source": [
    "df_train = pd.read_json(\"data/books_train.json\", orient=\"records\")\n",
    "df_val = pd.read_json(\"data/books_val.json\", orient=\"records\")\n",
    "df_test = pd.read_json(\"data/books_test.json\", orient=\"records\")"
   ]
  },
  {
   "cell_type": "markdown",
   "metadata": {},
   "source": [
    "# Adatok megtisztítása\n",
    "\n",
    "A jobb eredmény elérése érdekében az adatokból eltávolításra kerülnek a speciális html és egyéb karakterek és stopwordok. A szövegek minden karakter kisbetűre lesz alakítva továbbá egyszerű szavankénti tokenizálással fel lesz darabolva."
   ]
  },
  {
   "cell_type": "code",
   "execution_count": 12,
   "metadata": {},
   "outputs": [],
   "source": [
    "import nltk\n",
    "from nltk.corpus import stopwords\n",
    "from nltk.tokenize import word_tokenize\n",
    "import string\n",
    "\n",
    "STOPWORDS = stopwords.words(\"english\")\n",
    "\n",
    "def is_html_tag(word):\n",
    "    w = word.replace(\"\\n\", \"\")\n",
    "    return w.startswith(\"<\") or w.startswith(\">\") or w.startswith(\"/\") or w.strip()[:2] == \"br\"\n",
    "\n",
    "def remove_html_tags(sentence):\n",
    "    single_spaces = \" \".join(sentence.split())\n",
    "\n",
    "    return \" \".join([token for token in single_spaces.split(\" \") if not is_html_tag(token)])\n",
    "\n",
    "def tokenize_sentence(sentence):\n",
    "    return word_tokenize(sentence.lower())\n",
    "\n",
    "def remove_stopwords(sentence):\n",
    "    return \" \".join([word for word in sentence.split(\" \") if not word in STOPWORDS])\n",
    "\n",
    "def remove_punctuation(tokenized_sentence):\n",
    "    return [word for word in tokenized_sentence if word.isalpha()]\n",
    "\n",
    "def preprocess(sentence):\n",
    "    return remove_punctuation(tokenize_sentence(remove_stopwords(remove_html_tags(str(sentence)))))\n"
   ]
  },
  {
   "cell_type": "code",
   "execution_count": 13,
   "metadata": {},
   "outputs": [
    {
     "data": {
      "text/html": [
       "<div>\n",
       "<style scoped>\n",
       "    .dataframe tbody tr th:only-of-type {\n",
       "        vertical-align: middle;\n",
       "    }\n",
       "\n",
       "    .dataframe tbody tr th {\n",
       "        vertical-align: top;\n",
       "    }\n",
       "\n",
       "    .dataframe thead th {\n",
       "        text-align: right;\n",
       "    }\n",
       "</style>\n",
       "<table border=\"1\" class=\"dataframe\">\n",
       "  <thead>\n",
       "    <tr style=\"text-align: right;\">\n",
       "      <th></th>\n",
       "      <th>description</th>\n",
       "      <th>genre</th>\n",
       "      <th>genre_name</th>\n",
       "    </tr>\n",
       "  </thead>\n",
       "  <tbody>\n",
       "    <tr>\n",
       "      <th>0</th>\n",
       "      <td>[the, novel, concerns, dwelling, darkovan, ord...</td>\n",
       "      <td>1</td>\n",
       "      <td>fantasy</td>\n",
       "    </tr>\n",
       "    <tr>\n",
       "      <th>1</th>\n",
       "      <td>[an, amoral, doctor, forever, changes, lives, ...</td>\n",
       "      <td>0</td>\n",
       "      <td>thriller</td>\n",
       "    </tr>\n",
       "    <tr>\n",
       "      <th>2</th>\n",
       "      <td>[santiago, cruz, kekchi, campesinos, indigenos...</td>\n",
       "      <td>2</td>\n",
       "      <td>history</td>\n",
       "    </tr>\n",
       "    <tr>\n",
       "      <th>3</th>\n",
       "      <td>[promising, final, year, novice, kyarra, disap...</td>\n",
       "      <td>1</td>\n",
       "      <td>fantasy</td>\n",
       "    </tr>\n",
       "    <tr>\n",
       "      <th>4</th>\n",
       "      <td>[the, book, begins, roses, red, ended, alex, c...</td>\n",
       "      <td>0</td>\n",
       "      <td>thriller</td>\n",
       "    </tr>\n",
       "    <tr>\n",
       "      <th>...</th>\n",
       "      <td>...</td>\n",
       "      <td>...</td>\n",
       "      <td>...</td>\n",
       "    </tr>\n",
       "    <tr>\n",
       "      <th>1195</th>\n",
       "      <td>[ruby, school, life, immediately, gets, bad, s...</td>\n",
       "      <td>3</td>\n",
       "      <td>horror</td>\n",
       "    </tr>\n",
       "    <tr>\n",
       "      <th>1196</th>\n",
       "      <td>[after, returning, home, strange, things, star...</td>\n",
       "      <td>1</td>\n",
       "      <td>fantasy</td>\n",
       "    </tr>\n",
       "    <tr>\n",
       "      <th>1197</th>\n",
       "      <td>[the, book, divided, four, sections, organized...</td>\n",
       "      <td>2</td>\n",
       "      <td>history</td>\n",
       "    </tr>\n",
       "    <tr>\n",
       "      <th>1198</th>\n",
       "      <td>[among, us, live, others, they, humans, enter,...</td>\n",
       "      <td>3</td>\n",
       "      <td>horror</td>\n",
       "    </tr>\n",
       "    <tr>\n",
       "      <th>1199</th>\n",
       "      <td>[this, novel, source, mysterious, million, pou...</td>\n",
       "      <td>0</td>\n",
       "      <td>thriller</td>\n",
       "    </tr>\n",
       "  </tbody>\n",
       "</table>\n",
       "<p>1200 rows × 3 columns</p>\n",
       "</div>"
      ],
      "text/plain": [
       "                                            description  genre genre_name\n",
       "0     [the, novel, concerns, dwelling, darkovan, ord...      1    fantasy\n",
       "1     [an, amoral, doctor, forever, changes, lives, ...      0   thriller\n",
       "2     [santiago, cruz, kekchi, campesinos, indigenos...      2    history\n",
       "3     [promising, final, year, novice, kyarra, disap...      1    fantasy\n",
       "4     [the, book, begins, roses, red, ended, alex, c...      0   thriller\n",
       "...                                                 ...    ...        ...\n",
       "1195  [ruby, school, life, immediately, gets, bad, s...      3     horror\n",
       "1196  [after, returning, home, strange, things, star...      1    fantasy\n",
       "1197  [the, book, divided, four, sections, organized...      2    history\n",
       "1198  [among, us, live, others, they, humans, enter,...      3     horror\n",
       "1199  [this, novel, source, mysterious, million, pou...      0   thriller\n",
       "\n",
       "[1200 rows x 3 columns]"
      ]
     },
     "execution_count": 13,
     "metadata": {},
     "output_type": "execute_result"
    }
   ],
   "source": [
    "df_train[\"description\"] = df_train[\"description\"].apply(preprocess)\n",
    "df_train"
   ]
  },
  {
   "cell_type": "markdown",
   "metadata": {},
   "source": [
    "## Szótár építése a tokenizált szövegből. \n",
    "\n",
    "Erre azért van szükség hogy megtudjuk határozni a szöveg szókészletét és ez alapján a gyakorisági táblázatot elő tudjuk állítani."
   ]
  },
  {
   "cell_type": "code",
   "execution_count": 14,
   "metadata": {},
   "outputs": [],
   "source": [
    "def build_vocab(tokenized_input, vocab_size):\n",
    "    d = dict()\n",
    "\n",
    "    for tokens in tokenized_input:\n",
    "        for token in tokens:\n",
    "            # double check\n",
    "            if token not in STOPWORDS and token.isalpha():\n",
    "                d[token] = d.get(token, 0) + 1\n",
    "\n",
    "\n",
    "    return {k for k, v in sorted(d.items(), key=lambda item: item[1], reverse=True)[:vocab_size]}"
   ]
  },
  {
   "cell_type": "code",
   "execution_count": 15,
   "metadata": {},
   "outputs": [
    {
     "data": {
      "text/plain": [
       "10000"
      ]
     },
     "execution_count": 15,
     "metadata": {},
     "output_type": "execute_result"
    }
   ],
   "source": [
    "VOCAB_SIZE = 10000\n",
    "VOCAB = build_vocab(df_train[\"description\"].values, VOCAB_SIZE) \n",
    "len(VOCAB)"
   ]
  },
  {
   "cell_type": "markdown",
   "metadata": {},
   "source": [
    "## Tanuló címkék előállítása és leképzése"
   ]
  },
  {
   "cell_type": "code",
   "execution_count": 16,
   "metadata": {},
   "outputs": [
    {
     "data": {
      "text/plain": [
       "array([1, 0, 2, 3], dtype=int64)"
      ]
     },
     "execution_count": 16,
     "metadata": {},
     "output_type": "execute_result"
    }
   ],
   "source": [
    "GENRES = df_train[\"genre\"].unique()\n",
    "GENRES"
   ]
  },
  {
   "cell_type": "code",
   "execution_count": 17,
   "metadata": {},
   "outputs": [
    {
     "data": {
      "text/plain": [
       "{1: 'fantasy', 0: 'thriller', 2: 'history', 3: 'horror'}"
      ]
     },
     "execution_count": 17,
     "metadata": {},
     "output_type": "execute_result"
    }
   ],
   "source": [
    "GENRES_TO_NAMES = {genre: df_train[df_train[\"genre\"] == genre].iloc[0][\"genre_name\"] for genre in GENRES}\n",
    "GENRES_TO_NAMES"
   ]
  },
  {
   "cell_type": "markdown",
   "metadata": {},
   "source": [
    "## Szavak gyakorsiágának meghatározása"
   ]
  },
  {
   "cell_type": "code",
   "execution_count": 18,
   "metadata": {},
   "outputs": [
    {
     "data": {
      "text/plain": [
       "('thriller', 91, 'fantasy', 102, 'history', 86, 'horror', 95)"
      ]
     },
     "execution_count": 18,
     "metadata": {},
     "output_type": "execute_result"
    }
   ],
   "source": [
    "def get_frequencies_for_genres(df):\n",
    "    dict_freqs = {genre: {} for genre in GENRES}\n",
    "\n",
    "    for idx in range(df.shape[0]):\n",
    "        tokens = df.iloc[idx, 0]\n",
    "        genre = df.iloc[idx, 1]\n",
    "        \n",
    "        for token in set(tokens):\n",
    "            if token in VOCAB:\n",
    "                dict_freqs[genre][token] = dict_freqs[genre].get(token, 0) + 1\n",
    "            \n",
    "\n",
    "    return dict_freqs\n",
    "\n",
    "frequency_table = get_frequencies_for_genres(df_train)\n",
    "\n",
    "# A book szó gyakroisága az egyes osztályokban\n",
    "'thriller', frequency_table[0][\"book\"], 'fantasy', frequency_table[1][\"book\"], 'history', frequency_table[2][\"book\"], 'horror', frequency_table[3][\"book\"]"
   ]
  },
  {
   "cell_type": "markdown",
   "metadata": {},
   "source": [
    "## Tanuló jellemzők és címkék elkészítése\n",
    "\n",
    "Minden egyes tanuló mintához meghatározásra kerül, hogy a benne lévő szavak milyen gyakorisággal vesznek részt az egyes osztályokban. Ezáltal minden egyes szöveghez leképezhető egy elem négyesre. Ezekhez fogja az optimális súlyokat megkeresni a logisztikus model"
   ]
  },
  {
   "cell_type": "code",
   "execution_count": 19,
   "metadata": {},
   "outputs": [],
   "source": [
    "import numpy as np\n",
    "\n",
    "def extract_features(frequency_table, tweet_tokens):\n",
    "    genre_frequencies = {genre: 0 for genre in GENRES}\n",
    "\n",
    "    for t in tweet_tokens:\n",
    "        for genre in GENRES:\n",
    "            genre_frequencies[genre] += frequency_table[genre].get(t, 0)\n",
    "    \n",
    "    return pd.Series(genre_frequencies)\n"
   ]
  },
  {
   "cell_type": "code",
   "execution_count": 20,
   "metadata": {},
   "outputs": [
    {
     "data": {
      "text/html": [
       "<div>\n",
       "<style scoped>\n",
       "    .dataframe tbody tr th:only-of-type {\n",
       "        vertical-align: middle;\n",
       "    }\n",
       "\n",
       "    .dataframe tbody tr th {\n",
       "        vertical-align: top;\n",
       "    }\n",
       "\n",
       "    .dataframe thead th {\n",
       "        text-align: right;\n",
       "    }\n",
       "</style>\n",
       "<table border=\"1\" class=\"dataframe\">\n",
       "  <thead>\n",
       "    <tr style=\"text-align: right;\">\n",
       "      <th></th>\n",
       "      <th>1</th>\n",
       "      <th>0</th>\n",
       "      <th>2</th>\n",
       "      <th>3</th>\n",
       "    </tr>\n",
       "  </thead>\n",
       "  <tbody>\n",
       "    <tr>\n",
       "      <th>0</th>\n",
       "      <td>573</td>\n",
       "      <td>490</td>\n",
       "      <td>656</td>\n",
       "      <td>669</td>\n",
       "    </tr>\n",
       "    <tr>\n",
       "      <th>1</th>\n",
       "      <td>420</td>\n",
       "      <td>345</td>\n",
       "      <td>346</td>\n",
       "      <td>406</td>\n",
       "    </tr>\n",
       "    <tr>\n",
       "      <th>2</th>\n",
       "      <td>5922</td>\n",
       "      <td>4560</td>\n",
       "      <td>5749</td>\n",
       "      <td>5511</td>\n",
       "    </tr>\n",
       "    <tr>\n",
       "      <th>3</th>\n",
       "      <td>16633</td>\n",
       "      <td>11840</td>\n",
       "      <td>14121</td>\n",
       "      <td>15148</td>\n",
       "    </tr>\n",
       "    <tr>\n",
       "      <th>4</th>\n",
       "      <td>43292</td>\n",
       "      <td>44330</td>\n",
       "      <td>41685</td>\n",
       "      <td>49716</td>\n",
       "    </tr>\n",
       "    <tr>\n",
       "      <th>...</th>\n",
       "      <td>...</td>\n",
       "      <td>...</td>\n",
       "      <td>...</td>\n",
       "      <td>...</td>\n",
       "    </tr>\n",
       "    <tr>\n",
       "      <th>1195</th>\n",
       "      <td>8383</td>\n",
       "      <td>6867</td>\n",
       "      <td>8324</td>\n",
       "      <td>9122</td>\n",
       "    </tr>\n",
       "    <tr>\n",
       "      <th>1196</th>\n",
       "      <td>1261</td>\n",
       "      <td>923</td>\n",
       "      <td>1128</td>\n",
       "      <td>1396</td>\n",
       "    </tr>\n",
       "    <tr>\n",
       "      <th>1197</th>\n",
       "      <td>1455</td>\n",
       "      <td>1245</td>\n",
       "      <td>1535</td>\n",
       "      <td>1429</td>\n",
       "    </tr>\n",
       "    <tr>\n",
       "      <th>1198</th>\n",
       "      <td>22949</td>\n",
       "      <td>16843</td>\n",
       "      <td>18352</td>\n",
       "      <td>23031</td>\n",
       "    </tr>\n",
       "    <tr>\n",
       "      <th>1199</th>\n",
       "      <td>551</td>\n",
       "      <td>671</td>\n",
       "      <td>592</td>\n",
       "      <td>576</td>\n",
       "    </tr>\n",
       "  </tbody>\n",
       "</table>\n",
       "<p>1200 rows × 4 columns</p>\n",
       "</div>"
      ],
      "text/plain": [
       "          1      0      2      3\n",
       "0       573    490    656    669\n",
       "1       420    345    346    406\n",
       "2      5922   4560   5749   5511\n",
       "3     16633  11840  14121  15148\n",
       "4     43292  44330  41685  49716\n",
       "...     ...    ...    ...    ...\n",
       "1195   8383   6867   8324   9122\n",
       "1196   1261    923   1128   1396\n",
       "1197   1455   1245   1535   1429\n",
       "1198  22949  16843  18352  23031\n",
       "1199    551    671    592    576\n",
       "\n",
       "[1200 rows x 4 columns]"
      ]
     },
     "execution_count": 20,
     "metadata": {},
     "output_type": "execute_result"
    }
   ],
   "source": [
    "X_train_logistic = df_train[\"description\"].apply(lambda tokens: extract_features(frequency_table, tokens))\n",
    "X_train_logistic"
   ]
  },
  {
   "cell_type": "code",
   "execution_count": 21,
   "metadata": {},
   "outputs": [
    {
     "data": {
      "text/plain": [
       "array([1, 0, 2, ..., 2, 3, 0], dtype=int64)"
      ]
     },
     "execution_count": 21,
     "metadata": {},
     "output_type": "execute_result"
    }
   ],
   "source": [
    "y_train_logistic = df_train[\"genre\"].values\n",
    "y_train_logistic"
   ]
  },
  {
   "cell_type": "markdown",
   "metadata": {},
   "source": [
    "## Logisztikus model alkalmazása"
   ]
  },
  {
   "cell_type": "markdown",
   "metadata": {},
   "source": [
    "### Validációs adathalmaz előkészítése az optimális modell megtalálásához"
   ]
  },
  {
   "cell_type": "code",
   "execution_count": 22,
   "metadata": {},
   "outputs": [
    {
     "data": {
      "text/html": [
       "<div>\n",
       "<style scoped>\n",
       "    .dataframe tbody tr th:only-of-type {\n",
       "        vertical-align: middle;\n",
       "    }\n",
       "\n",
       "    .dataframe tbody tr th {\n",
       "        vertical-align: top;\n",
       "    }\n",
       "\n",
       "    .dataframe thead th {\n",
       "        text-align: right;\n",
       "    }\n",
       "</style>\n",
       "<table border=\"1\" class=\"dataframe\">\n",
       "  <thead>\n",
       "    <tr style=\"text-align: right;\">\n",
       "      <th></th>\n",
       "      <th>1</th>\n",
       "      <th>0</th>\n",
       "      <th>2</th>\n",
       "      <th>3</th>\n",
       "    </tr>\n",
       "  </thead>\n",
       "  <tbody>\n",
       "    <tr>\n",
       "      <th>0</th>\n",
       "      <td>54</td>\n",
       "      <td>905</td>\n",
       "      <td>171</td>\n",
       "      <td>412</td>\n",
       "    </tr>\n",
       "    <tr>\n",
       "      <th>1</th>\n",
       "      <td>24</td>\n",
       "      <td>246</td>\n",
       "      <td>42</td>\n",
       "      <td>122</td>\n",
       "    </tr>\n",
       "    <tr>\n",
       "      <th>2</th>\n",
       "      <td>23</td>\n",
       "      <td>319</td>\n",
       "      <td>61</td>\n",
       "      <td>143</td>\n",
       "    </tr>\n",
       "    <tr>\n",
       "      <th>3</th>\n",
       "      <td>12</td>\n",
       "      <td>38</td>\n",
       "      <td>12</td>\n",
       "      <td>20</td>\n",
       "    </tr>\n",
       "    <tr>\n",
       "      <th>4</th>\n",
       "      <td>4</td>\n",
       "      <td>70</td>\n",
       "      <td>16</td>\n",
       "      <td>30</td>\n",
       "    </tr>\n",
       "    <tr>\n",
       "      <th>...</th>\n",
       "      <td>...</td>\n",
       "      <td>...</td>\n",
       "      <td>...</td>\n",
       "      <td>...</td>\n",
       "    </tr>\n",
       "    <tr>\n",
       "      <th>395</th>\n",
       "      <td>306</td>\n",
       "      <td>3373</td>\n",
       "      <td>529</td>\n",
       "      <td>1644</td>\n",
       "    </tr>\n",
       "    <tr>\n",
       "      <th>396</th>\n",
       "      <td>43</td>\n",
       "      <td>407</td>\n",
       "      <td>57</td>\n",
       "      <td>208</td>\n",
       "    </tr>\n",
       "    <tr>\n",
       "      <th>397</th>\n",
       "      <td>46</td>\n",
       "      <td>840</td>\n",
       "      <td>158</td>\n",
       "      <td>376</td>\n",
       "    </tr>\n",
       "    <tr>\n",
       "      <th>398</th>\n",
       "      <td>4</td>\n",
       "      <td>91</td>\n",
       "      <td>19</td>\n",
       "      <td>40</td>\n",
       "    </tr>\n",
       "    <tr>\n",
       "      <th>399</th>\n",
       "      <td>205</td>\n",
       "      <td>1781</td>\n",
       "      <td>329</td>\n",
       "      <td>860</td>\n",
       "    </tr>\n",
       "  </tbody>\n",
       "</table>\n",
       "<p>400 rows × 4 columns</p>\n",
       "</div>"
      ],
      "text/plain": [
       "       1     0    2     3\n",
       "0     54   905  171   412\n",
       "1     24   246   42   122\n",
       "2     23   319   61   143\n",
       "3     12    38   12    20\n",
       "4      4    70   16    30\n",
       "..   ...   ...  ...   ...\n",
       "395  306  3373  529  1644\n",
       "396   43   407   57   208\n",
       "397   46   840  158   376\n",
       "398    4    91   19    40\n",
       "399  205  1781  329   860\n",
       "\n",
       "[400 rows x 4 columns]"
      ]
     },
     "execution_count": 22,
     "metadata": {},
     "output_type": "execute_result"
    }
   ],
   "source": [
    "X_val = df_val[\"description\"].apply(preprocess)\n",
    "X_val_logistic = df_val[\"description\"].apply(lambda tokens: extract_features(frequency_table, tokens))\n",
    "y_val_logistic = df_val[\"genre\"].values\n",
    "X_val_logistic"
   ]
  },
  {
   "cell_type": "markdown",
   "metadata": {},
   "source": [
    "### Tanítás és validáció"
   ]
  },
  {
   "cell_type": "code",
   "execution_count": 27,
   "metadata": {},
   "outputs": [
    {
     "name": "stderr",
     "output_type": "stream",
     "text": [
      "100%|████████████████████████████████████████████████████████████████████████████████████| 6/6 [00:00<00:00, 33.33it/s]\n"
     ]
    },
    {
     "data": {
      "text/html": [
       "<div>\n",
       "<style scoped>\n",
       "    .dataframe tbody tr th:only-of-type {\n",
       "        vertical-align: middle;\n",
       "    }\n",
       "\n",
       "    .dataframe tbody tr th {\n",
       "        vertical-align: top;\n",
       "    }\n",
       "\n",
       "    .dataframe thead th {\n",
       "        text-align: right;\n",
       "    }\n",
       "</style>\n",
       "<table border=\"1\" class=\"dataframe\">\n",
       "  <thead>\n",
       "    <tr style=\"text-align: right;\">\n",
       "      <th></th>\n",
       "      <th>iter</th>\n",
       "      <th>Train accuracy</th>\n",
       "      <th>Validation accuracy</th>\n",
       "    </tr>\n",
       "  </thead>\n",
       "  <tbody>\n",
       "    <tr>\n",
       "      <th>0</th>\n",
       "      <td>2</td>\n",
       "      <td>0.830833</td>\n",
       "      <td>0.2500</td>\n",
       "    </tr>\n",
       "    <tr>\n",
       "      <th>1</th>\n",
       "      <td>3</td>\n",
       "      <td>0.835000</td>\n",
       "      <td>0.2500</td>\n",
       "    </tr>\n",
       "    <tr>\n",
       "      <th>2</th>\n",
       "      <td>4</td>\n",
       "      <td>0.839167</td>\n",
       "      <td>0.2500</td>\n",
       "    </tr>\n",
       "    <tr>\n",
       "      <th>3</th>\n",
       "      <td>5</td>\n",
       "      <td>0.838333</td>\n",
       "      <td>0.2500</td>\n",
       "    </tr>\n",
       "    <tr>\n",
       "      <th>4</th>\n",
       "      <td>10</td>\n",
       "      <td>0.839167</td>\n",
       "      <td>0.2500</td>\n",
       "    </tr>\n",
       "    <tr>\n",
       "      <th>5</th>\n",
       "      <td>15</td>\n",
       "      <td>0.844167</td>\n",
       "      <td>0.2525</td>\n",
       "    </tr>\n",
       "  </tbody>\n",
       "</table>\n",
       "</div>"
      ],
      "text/plain": [
       "   iter  Train accuracy  Validation accuracy\n",
       "0     2        0.830833               0.2500\n",
       "1     3        0.835000               0.2500\n",
       "2     4        0.839167               0.2500\n",
       "3     5        0.838333               0.2500\n",
       "4    10        0.839167               0.2500\n",
       "5    15        0.844167               0.2525"
      ]
     },
     "execution_count": 27,
     "metadata": {},
     "output_type": "execute_result"
    }
   ],
   "source": [
    "from tqdm import tqdm\n",
    "from sklearn.metrics import accuracy_score\n",
    "from warnings import simplefilter\n",
    "from sklearn.exceptions import ConvergenceWarning\n",
    "simplefilter(\"ignore\", category=ConvergenceWarning)\n",
    "from sklearn.linear_model import LogisticRegression\n",
    "\n",
    "results = { \"iter\" : [], \"Train accuracy\" : [], \"Validation accuracy\" : []}\n",
    "X_val = df_val[\"description\"].apply(preprocess)\n",
    "\n",
    "for max_iter in tqdm([2, 3, 4, 5, 10, 15]):\n",
    "    clf = LogisticRegression(random_state=0, max_iter=max_iter, solver=\"newton-cg\").fit(X_train_logistic, y_train_logistic)\n",
    "    \n",
    "    preds_train = clf.predict(X_train_logistic)\n",
    "    preds_val = clf.predict(X_val_logistic)\n",
    "\n",
    "    results[\"iter\"].append(max_iter)\n",
    "    results[\"Train accuracy\"].append(accuracy_score(y_train_logistic, preds_train))\n",
    "    results[\"Validation accuracy\"].append(accuracy_score(y_val_logistic, preds_val))\n",
    "\n",
    "results = pd.DataFrame(results)\n",
    "results"
   ]
  },
  {
   "cell_type": "code",
   "execution_count": 24,
   "metadata": {},
   "outputs": [
    {
     "data": {
      "text/plain": [
       "15"
      ]
     },
     "execution_count": 24,
     "metadata": {},
     "output_type": "execute_result"
    }
   ],
   "source": [
    "best_iter = results[\"iter\"].values[np.argmax(results[\"Validation accuracy\"].values, axis=0)]\n",
    "best_iter"
   ]
  },
  {
   "cell_type": "markdown",
   "metadata": {},
   "source": [
    "### Test adathalmaz előkészítése"
   ]
  },
  {
   "cell_type": "code",
   "execution_count": 25,
   "metadata": {},
   "outputs": [
    {
     "data": {
      "text/html": [
       "<div>\n",
       "<style scoped>\n",
       "    .dataframe tbody tr th:only-of-type {\n",
       "        vertical-align: middle;\n",
       "    }\n",
       "\n",
       "    .dataframe tbody tr th {\n",
       "        vertical-align: top;\n",
       "    }\n",
       "\n",
       "    .dataframe thead th {\n",
       "        text-align: right;\n",
       "    }\n",
       "</style>\n",
       "<table border=\"1\" class=\"dataframe\">\n",
       "  <thead>\n",
       "    <tr style=\"text-align: right;\">\n",
       "      <th></th>\n",
       "      <th>1</th>\n",
       "      <th>0</th>\n",
       "      <th>2</th>\n",
       "      <th>3</th>\n",
       "    </tr>\n",
       "  </thead>\n",
       "  <tbody>\n",
       "    <tr>\n",
       "      <th>0</th>\n",
       "      <td>70</td>\n",
       "      <td>1340</td>\n",
       "      <td>240</td>\n",
       "      <td>607</td>\n",
       "    </tr>\n",
       "    <tr>\n",
       "      <th>1</th>\n",
       "      <td>211</td>\n",
       "      <td>2120</td>\n",
       "      <td>396</td>\n",
       "      <td>1011</td>\n",
       "    </tr>\n",
       "    <tr>\n",
       "      <th>2</th>\n",
       "      <td>186</td>\n",
       "      <td>2074</td>\n",
       "      <td>388</td>\n",
       "      <td>996</td>\n",
       "    </tr>\n",
       "    <tr>\n",
       "      <th>3</th>\n",
       "      <td>201</td>\n",
       "      <td>2270</td>\n",
       "      <td>518</td>\n",
       "      <td>1017</td>\n",
       "    </tr>\n",
       "    <tr>\n",
       "      <th>4</th>\n",
       "      <td>11</td>\n",
       "      <td>82</td>\n",
       "      <td>16</td>\n",
       "      <td>41</td>\n",
       "    </tr>\n",
       "    <tr>\n",
       "      <th>...</th>\n",
       "      <td>...</td>\n",
       "      <td>...</td>\n",
       "      <td>...</td>\n",
       "      <td>...</td>\n",
       "    </tr>\n",
       "    <tr>\n",
       "      <th>395</th>\n",
       "      <td>37</td>\n",
       "      <td>558</td>\n",
       "      <td>102</td>\n",
       "      <td>257</td>\n",
       "    </tr>\n",
       "    <tr>\n",
       "      <th>396</th>\n",
       "      <td>115</td>\n",
       "      <td>1196</td>\n",
       "      <td>190</td>\n",
       "      <td>593</td>\n",
       "    </tr>\n",
       "    <tr>\n",
       "      <th>397</th>\n",
       "      <td>41</td>\n",
       "      <td>666</td>\n",
       "      <td>118</td>\n",
       "      <td>304</td>\n",
       "    </tr>\n",
       "    <tr>\n",
       "      <th>398</th>\n",
       "      <td>95</td>\n",
       "      <td>815</td>\n",
       "      <td>135</td>\n",
       "      <td>400</td>\n",
       "    </tr>\n",
       "    <tr>\n",
       "      <th>399</th>\n",
       "      <td>78</td>\n",
       "      <td>757</td>\n",
       "      <td>115</td>\n",
       "      <td>385</td>\n",
       "    </tr>\n",
       "  </tbody>\n",
       "</table>\n",
       "<p>400 rows × 4 columns</p>\n",
       "</div>"
      ],
      "text/plain": [
       "       1     0    2     3\n",
       "0     70  1340  240   607\n",
       "1    211  2120  396  1011\n",
       "2    186  2074  388   996\n",
       "3    201  2270  518  1017\n",
       "4     11    82   16    41\n",
       "..   ...   ...  ...   ...\n",
       "395   37   558  102   257\n",
       "396  115  1196  190   593\n",
       "397   41   666  118   304\n",
       "398   95   815  135   400\n",
       "399   78   757  115   385\n",
       "\n",
       "[400 rows x 4 columns]"
      ]
     },
     "execution_count": 25,
     "metadata": {},
     "output_type": "execute_result"
    }
   ],
   "source": [
    "X_test = df_test[\"description\"].apply(preprocess)\n",
    "X_test_logistic = df_test[\"description\"].apply(lambda tokens: extract_features(frequency_table, tokens))\n",
    "y_test_logistic = df_test[\"genre\"].values\n",
    "X_test_logistic"
   ]
  },
  {
   "cell_type": "markdown",
   "metadata": {},
   "source": [
    "### A legjobb modell tesztelése"
   ]
  },
  {
   "cell_type": "code",
   "execution_count": 26,
   "metadata": {},
   "outputs": [
    {
     "name": "stdout",
     "output_type": "stream",
     "text": [
      "Test accuracy: 0.2475\n"
     ]
    }
   ],
   "source": [
    "clf = LogisticRegression(random_state=0, max_iter=best_iter, solver=\"newton-cg\").fit(X_train_logistic, y_train_logistic)\n",
    "\n",
    "preds_test = clf.predict(X_test_logistic)\n",
    "\n",
    "print(\"Test accuracy:\", accuracy_score(y_test_logistic, preds_test))"
   ]
  },
  {
   "cell_type": "code",
   "execution_count": null,
   "metadata": {},
   "outputs": [],
   "source": []
  }
 ],
 "metadata": {
  "kernelspec": {
   "display_name": "Python 3 (ipykernel)",
   "language": "python",
   "name": "python3"
  },
  "language_info": {
   "codemirror_mode": {
    "name": "ipython",
    "version": 3
   },
   "file_extension": ".py",
   "mimetype": "text/x-python",
   "name": "python",
   "nbconvert_exporter": "python",
   "pygments_lexer": "ipython3",
   "version": "3.9.13"
  },
  "vscode": {
   "interpreter": {
    "hash": "4650b2ab9af1b5111f53599d1b6662800e1e795f0a404b209a1518c877a28bdd"
   }
  }
 },
 "nbformat": 4,
 "nbformat_minor": 2
}
